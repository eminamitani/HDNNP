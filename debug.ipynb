{
 "cells": [
  {
   "cell_type": "code",
   "execution_count": 47,
   "metadata": {
    "collapsed": true
   },
   "outputs": [],
   "source": [
    "import numpy as np\n",
    "import chainer\n",
    "import matplotlib.pyplot as plt\n",
    "%matplotlib inline\n",
    "import yaml\n",
    "import quippy"
   ]
  },
  {
   "cell_type": "code",
   "execution_count": 2,
   "metadata": {
    "scrolled": true
   },
   "outputs": [
    {
     "name": "stderr",
     "output_type": "stream",
     "text": [
      "/Users/jas/anaconda/envs/python2/lib/python2.7/site-packages/matplotlib/__init__.py:1405: UserWarning: \n",
      "This call to matplotlib.use() has no effect because the backend has already\n",
      "been chosen; matplotlib.use() must be called *before* pylab, matplotlib.pyplot,\n",
      "or matplotlib.backends is imported for the first time.\n",
      "\n",
      "  warnings.warn(_use_error_msg)\n"
     ]
    }
   ],
   "source": [
    "from modules.data import AtomicStructureDataset\n",
    "from modules.model import HDNNP, SingleNNP\n",
    "from modules.util import DictAsAttributes, HyperParameter"
   ]
  },
  {
   "cell_type": "markdown",
   "metadata": {},
   "source": [
    "### スーパーセルについての計算チェック"
   ]
  },
  {
   "cell_type": "code",
   "execution_count": 3,
   "metadata": {
    "collapsed": true
   },
   "outputs": [],
   "source": [
    "config = DictAsAttributes({'preconditioning': 'none'})\n",
    "with open('hyperparameter.yaml') as f:\n",
    "    hp_dict = yaml.load(f)\n",
    "    dataset_hp = DictAsAttributes(hp_dict['dataset'])\n",
    "    model_hp = HyperParameter(hp_dict['model'], random=None)\n",
    "hp = config + dataset_hp + model_hp[0]"
   ]
  },
  {
   "cell_type": "code",
   "execution_count": 4,
   "metadata": {
    "collapsed": true
   },
   "outputs": [],
   "source": [
    "datasets = []\n",
    "for i in range(3):\n",
    "    dataset = AtomicStructureDataset(hp)\n",
    "    dataset.load_xyz('GaN/debug_supercell/type{}/structure.xyz'.format(i+1))\n",
    "    datasets.append(dataset)"
   ]
  },
  {
   "cell_type": "code",
   "execution_count": 28,
   "metadata": {},
   "outputs": [],
   "source": [
    "# input　sizeをNoneにしているため、init段階では最初のレイヤーの重みが初期化されていない(None)\n",
    "# なぜかわからないが、一度hdnnp.predictで通した後sync_param_withをするとmastersのレイヤーの重みが初期化されるので以下のような変なことをしている\n",
    "masters = chainer.ChainList(*[SingleNNP(hp, element) for element in ['Ga', 'N']])\n",
    "hdnnps = []\n",
    "for i in range(3):\n",
    "    hdnnp = HDNNP(hp, datasets[i].composition)\n",
    "    hdnnps.append(hdnnp)\n",
    "for i in range(3):\n",
    "    hdnnps[i].predict(datasets[i].input, datasets[i].dinput)\n",
    "    hdnnps[i].sync_param_with(masters)"
   ]
  },
  {
   "cell_type": "code",
   "execution_count": 36,
   "metadata": {},
   "outputs": [
    {
     "name": "stdout",
     "output_type": "stream",
     "text": [
      "[[ 1.]] [[ 7.99999714]] [[ 26.99999809]]\n",
      "[[[  6.14880014e-09  -1.11391536e-08   9.17771086e-03]\n",
      "  [  3.75754095e-09   2.72514278e-08   9.17770341e-03]\n",
      "  [ -2.70697775e-09   3.36539756e-08   9.17570386e-03]\n",
      "  [ -5.97456129e-09  -3.23341212e-08   9.17576626e-03]]]\n",
      "[[[ -1.54420263e-08  -2.11202291e-08   9.17771459e-03]\n",
      "  [ -4.63041943e-08   2.01289367e-08   9.17769130e-03]\n",
      "  [ -9.34010114e-09  -2.98945011e-08   9.17570014e-03]\n",
      "  [ -2.98565439e-08   1.49027315e-08   9.17569734e-03]]]\n",
      "[[[ -8.29459168e-09  -3.02097760e-08   9.17768292e-03]\n",
      "  [ -6.98491931e-09   2.65426934e-08   9.17773508e-03]\n",
      "  [  3.89991328e-09  -2.63389666e-08   9.17568989e-03]\n",
      "  [ -2.01990442e-08   1.03609636e-08   9.17568896e-03]]]\n"
     ]
    }
   ],
   "source": [
    "E,F = [],[]\n",
    "for i in range(3):\n",
    "    energy,force = hdnnps[i].predict(datasets[i].input, datasets[i].dinput)\n",
    "    E.append(energy.data)\n",
    "    F.append(force.data)\n",
    "print E[0]/E[0], E[1]/E[0], E[2]/E[0]\n",
    "print F[0][:,0:4]\n",
    "print F[1][:,0:4]\n",
    "print F[2][:,0:4]"
   ]
  },
  {
   "cell_type": "markdown",
   "metadata": {},
   "source": [
    "あるprimitiveセルと、2x2x2のsupercell、3x3x3のsupercellについて計算した。  \n",
    "エネルギーはちゃんと8倍、27倍になっており、axis=2、つまりz方向の力も一致しているが、  \n",
    "x,y方向への力がおかしい（そのまま拡張子しているだけなので、力が一致していないとおかしい）"
   ]
  },
  {
   "cell_type": "code",
   "execution_count": null,
   "metadata": {
    "collapsed": true
   },
   "outputs": [],
   "source": []
  },
  {
   "cell_type": "code",
   "execution_count": 39,
   "metadata": {
    "collapsed": true
   },
   "outputs": [],
   "source": [
    "sf1 = np.load('GaN/debug_supercell/type1/Symmetry_Function.npz')\n",
    "sf2 = np.load('GaN/debug_supercell/type2/Symmetry_Function.npz')\n",
    "sf3 = np.load('GaN/debug_supercell/type3/Symmetry_Function.npz')"
   ]
  },
  {
   "cell_type": "code",
   "execution_count": 117,
   "metadata": {},
   "outputs": [
    {
     "name": "stdout",
     "output_type": "stream",
     "text": [
      "[[  1.79477411e-09   1.31228717e-09   1.00545803e-04]\n",
      " [  9.89171633e-10   1.50497570e-09  -4.46350779e-04]\n",
      " [  4.49160709e-11   1.18586474e-10  -1.47126503e-02]\n",
      " [  1.21343477e-10   4.80573137e-10   1.50072305e-02]]\n"
     ]
    }
   ],
   "source": [
    "# あるsample、ある原子、あるG4のmixのSF\n",
    "print sf1['dG/type4/5.0/0.1/-1/2'][0,0,2,:,:]"
   ]
  },
  {
   "cell_type": "code",
   "execution_count": 116,
   "metadata": {},
   "outputs": [
    {
     "name": "stdout",
     "output_type": "stream",
     "text": [
      "[[ -2.20157825e-09   3.16425641e-09   1.00545978e-04]\n",
      " [ -9.04983977e-10   1.35580414e-09  -4.46340942e-04]\n",
      " [ -1.06297193e-11   1.17879040e-10  -1.47126587e-02]\n",
      " [ -2.59264255e-09  -2.58646793e-09   1.50072305e-02]]\n"
     ]
    }
   ],
   "source": [
    "a = np.zeros((4,3))\n",
    "for i in range(4):\n",
    "    a[i] = sf2['dG/type4/5.0/0.1/-1/2'][0,0,2,:,:][range(i,32,4)].sum(axis=0)\n",
    "print a"
   ]
  },
  {
   "cell_type": "raw",
   "metadata": {},
   "source": [
    "2x2x2のsupercellのSFに対して、primitiveと同じようにsum upしてみた。\n",
    "こうして見ると、確かにz方向の数値は一致しているが、x,y方向がおかしいのがわかる。\n",
    "\n",
    "他のSF_keyでは…？"
   ]
  },
  {
   "cell_type": "code",
   "execution_count": 113,
   "metadata": {},
   "outputs": [
    {
     "name": "stdout",
     "output_type": "stream",
     "text": [
      "[[  0.00000000e+00   0.00000000e+00   0.00000000e+00]\n",
      " [  0.00000000e+00   0.00000000e+00   0.00000000e+00]\n",
      " [  0.00000000e+00   0.00000000e+00  -1.41261011e-01]\n",
      " [ -2.67209543e-09   4.04270395e-09   1.35732263e-01]]\n",
      "[[  0.00000000e+00   0.00000000e+00   0.00000000e+00]\n",
      " [  0.00000000e+00   0.00000000e+00   0.00000000e+00]\n",
      " [  0.00000000e+00   0.00000000e+00  -1.41261011e-01]\n",
      " [  2.16095941e-09  -3.56203600e-09   1.35732278e-01]]\n"
     ]
    }
   ],
   "source": [
    "key = 'dG/type2/5.0/0.1/2.0'\n",
    "print sf1[key][0,0,1,:,:]\n",
    "a = np.zeros((4,3))\n",
    "for i in range(4):\n",
    "    a[i] = sf2[key][0,0,1,:,:][range(i,32,4)].sum(axis=0)\n",
    "print a"
   ]
  },
  {
   "cell_type": "code",
   "execution_count": null,
   "metadata": {
    "collapsed": true
   },
   "outputs": [],
   "source": []
  },
  {
   "cell_type": "code",
   "execution_count": 52,
   "metadata": {},
   "outputs": [
    {
     "name": "stdout",
     "output_type": "stream",
     "text": [
      "47\n",
      "[[6], [12], [14], [15]]\n",
      "47\n",
      "[[0, 0, 2, 0, 2, 0, 2, 0], [1, 1, 1, 1, 1, 1, 3, 3], [1, 1, 2, 2, 2, 2, 2, 2], [3, 1, 3, 1, 3, 1, 3, 0]]\n",
      "47\n",
      "[[0, 0, 0, 1, 0, 0, 1, 0, 0, 1, 0, 0, 1, 0, 0, 0, 0, 0, 1, 0, 0, 0, 0, 0, 1, 0, 0], [1, 0, 1, 0, 0, 0, 1, 0, 1, 1, 0, 1, 1, 0, 1, 1, 0, 1, 0, 0, 0, 0, 0, 0, 1, 0, 1], [1, 0, 1, 1, 0, 1, 1, 0, 1, 1, 0, 1, 1, 0, 1, 0, 0, 0, 1, 0, 1, 0, 0, 0, 1, 0, 1], [1, 1, 0, 2, 0, 0, 1, 1, 0, 1, 1, 0, 1, 0, 0, 1, 0, 0, 2, 0, 0, 2, 0, 0, 1, 0, 0]]\n"
     ]
    }
   ],
   "source": [
    "atoms = quippy.AtomsList('GaN/debug_supercell/GaN.xyz')\n",
    "for at in atoms:\n",
    "    at.set_cutoff(5.0)\n",
    "    at.calc_connect()\n",
    "    neighb_list = at.connect.get_neighbours(1)[0] - 1\n",
    "    print len(neighb_list)\n",
    "    print [[(neighb_list == i+j*4).sum() for j in range(at.n / 4)] for i in range(4)]"
   ]
  },
  {
   "cell_type": "raw",
   "metadata": {},
   "source": [
    "当然、原子iのneighbourの数は、primitive,2x2x2,3x3x3共に一致する。\n",
    "supercellについては、今回ミラー原子のindexが(0,1,2,3,0,1,2,3,...,0,1,2,3)と続いているのでそれぞれでまとめると、やはり合計は(6,12,14,15)になる。"
   ]
  },
  {
   "cell_type": "code",
   "execution_count": 140,
   "metadata": {},
   "outputs": [],
   "source": [
    "def calc_G4(at, dtype, Rc=5.0, eta=0.1, lambda_=-1, zeta=2):\n",
    "    natom = at.n\n",
    "    at.set_cutoff(Rc)\n",
    "    at.calc_connect()\n",
    "    #for i in range(natom):\n",
    "    for i in range(1):\n",
    "        n_neighb = at.n_neighbours(i+1)\n",
    "        if n_neighb == 0:\n",
    "            continue\n",
    "        r = np.zeros((n_neighb, 3), dtype=dtype)\n",
    "        for l, neighb in enumerate(at.connect[i+1]):\n",
    "            #print neighb.j%4, neighb.diff, neighb.shift\n",
    "            r[l] = neighb.diff\n",
    "        R = np.linalg.norm(r, axis=1)\n",
    "        tanh = np.tanh(1 - R/Rc)\n",
    "        dR = r / R[:, None]\n",
    "        cos = dR.dot(dR.T)\n",
    "        dcos = - r[:, None, :]/R[:, None, None]**2 * cos[:, :, None] + r[None, :, :]/(R[:, None, None] * R[None, :, None])\n",
    "        ang = 1. + lambda_ * cos\n",
    "        rad1 = np.exp(-eta * R**2) * tanh**3\n",
    "        rad2 = np.exp(-eta * R**2) * tanh**2 * (-2.*eta*R*tanh + 3./Rc*(tanh**2 - 1.0))\n",
    "        ang[np.eye(len(R), dtype=bool)] = 0\n",
    "        g = 2.**(1-zeta) * ang**zeta * rad1[:, None] * rad1[None, :]\n",
    "        dg_radial_part = 2.**(1-zeta) * ang[:, :, None]**zeta * rad2[:, None, None] * rad1[None, :, None] * dR[:, None, :]\n",
    "        dg_angular_part = zeta * lambda_ * 2.**(1-zeta) * ang[:, :, None]**(zeta-1) * rad1[:, None, None] * rad1[None, :, None] * dcos\n",
    "        dg = dg_radial_part + dg_angular_part\n",
    "        \n",
    "        neighbour_list = at.connect.get_neighbours(i+1)[0] - 1\n",
    "        dG = np.zeros((natom,3))\n",
    "        for j in range(natom):\n",
    "            dG[j] = dg.take(np.where(neighbour_list == j)[0],0).sum(axis=(0,1))\n",
    "        return dG"
   ]
  },
  {
   "cell_type": "raw",
   "metadata": {},
   "source": [
    "dtype=np.float32が悪さをしているのでは…？\n",
    "調べて見ると、単精度小数点の精度は有効数字7桁ほどで、倍精度で15桁ほど。\n",
    "上を見て見ると、z方向は力やdGがe-2~5ほどなのに対し、ずれているx,y方向はe-9,10ほど。"
   ]
  },
  {
   "cell_type": "code",
   "execution_count": 144,
   "metadata": {},
   "outputs": [
    {
     "name": "stdout",
     "output_type": "stream",
     "text": [
      "[[  1.12546417e-09   6.28205044e-10   1.00545891e-04]\n",
      " [ -7.71238851e-10   6.18051388e-09  -4.46346734e-04]\n",
      " [ -8.62785399e-11   1.97350092e-09  -5.59070706e-02]\n",
      " [  5.03100051e-09   1.31063267e-08   5.65038174e-02]]\n",
      "[[ -9.39348932e-10   2.67435165e-09   1.00546094e-04]\n",
      " [ -1.02091807e-09  -9.02279379e-10  -4.46341990e-04]\n",
      " [ -9.45421566e-10   4.37966248e-10  -5.59070448e-02]\n",
      " [  7.22030448e-09   5.00605268e-09   5.65037640e-02]]\n"
     ]
    }
   ],
   "source": [
    "dG1 = calc_G4(atoms[0], dtype=np.float32)\n",
    "dG2 = calc_G4(atoms[1], dtype=np.float32)\n",
    "print dG1\n",
    "dG2_sum = np.zeros((4,3))\n",
    "for i in range(4):\n",
    "    dG2_sum[i] = dG2[range(i,32,4)].sum(axis=0)\n",
    "print dG2_sum"
   ]
  },
  {
   "cell_type": "raw",
   "metadata": {},
   "source": [
    "float32の場合はやはりずれている。"
   ]
  },
  {
   "cell_type": "code",
   "execution_count": 145,
   "metadata": {},
   "outputs": [
    {
     "name": "stdout",
     "output_type": "stream",
     "text": [
      "[[ -2.25906057e-11   6.48932981e-11   1.00545738e-04]\n",
      " [  2.57497791e-12  -4.12516240e-11  -4.46346644e-04]\n",
      " [  1.81630610e-11  -4.66442943e-11  -5.59070487e-02]\n",
      " [  1.40634883e-10  -2.39906140e-10   5.65037597e-02]]\n",
      "[[ -2.25906058e-11   6.48932862e-11   1.00545738e-04]\n",
      " [  2.57497450e-12  -4.12516190e-11  -4.46346644e-04]\n",
      " [  1.81630591e-11  -4.66442861e-11  -5.59070487e-02]\n",
      " [  1.40634904e-10  -2.39906105e-10   5.65037597e-02]]\n"
     ]
    }
   ],
   "source": [
    "dG1 = calc_G4(atoms[0], dtype=np.float64)\n",
    "dG2 = calc_G4(atoms[1], dtype=np.float64)\n",
    "print dG1\n",
    "dG2_sum = np.zeros((4,3))\n",
    "for i in range(4):\n",
    "    dG2_sum[i] = dG2[range(i,32,4)].sum(axis=0)\n",
    "print dG2_sum"
   ]
  },
  {
   "cell_type": "raw",
   "metadata": {},
   "source": [
    "一致している！！！\n",
    "\n",
    "float64、つまり倍精度小数点で計算するとe-11ほどの小さい値になる計算を、初めからfloat32で計算してしまっていたのがマズかった。\n",
    "SFの計算時はfloat64で計算し、それをfloat32に格納する、というふうに変更する。"
   ]
  },
  {
   "cell_type": "code",
   "execution_count": null,
   "metadata": {
    "collapsed": true
   },
   "outputs": [],
   "source": []
  }
 ],
 "metadata": {
  "kernelspec": {
   "display_name": "Python 2",
   "language": "python",
   "name": "python2"
  },
  "language_info": {
   "codemirror_mode": {
    "name": "ipython",
    "version": 2
   },
   "file_extension": ".py",
   "mimetype": "text/x-python",
   "name": "python",
   "nbconvert_exporter": "python",
   "pygments_lexer": "ipython2",
   "version": "2.7.13"
  }
 },
 "nbformat": 4,
 "nbformat_minor": 2
}
